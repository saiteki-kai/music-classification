{
 "cells": [
  {
   "cell_type": "code",
   "execution_count": 1,
   "metadata": {
    "pycharm": {
     "is_executing": true
    }
   },
   "outputs": [],
   "source": [
    "import sys\n",
    "\n",
    "sys.path.append(\"..\")\n",
    "\n",
    "import time\n",
    "import numpy as np\n",
    "import pandas as pd\n",
    "\n",
    "from sklearn.preprocessing import StandardScaler, LabelEncoder\n",
    "\n",
    "import tensorflow as tf\n",
    "from keras import layers, Sequential\n",
    "from keras.regularizers import l2\n",
    "\n",
    "import matplotlib.pyplot as plt\n",
    "\n",
    "from project.config import DATA_FOLDER, SUBSET\n",
    "from project.utils.fma import load_tracks, load_handcrafted\n",
    "from project.utils.nn import plot_history"
   ]
  },
  {
   "cell_type": "code",
   "execution_count": 2,
   "metadata": {},
   "outputs": [],
   "source": [
    "tracks = load_tracks(DATA_FOLDER)\n",
    "features = load_handcrafted(DATA_FOLDER)"
   ]
  },
  {
   "cell_type": "code",
   "execution_count": 3,
   "metadata": {},
   "outputs": [],
   "source": [
    "subset = tracks['set', 'subset'] <= SUBSET\n",
    "\n",
    "train = tracks[\"set\", \"split\"] == \"training\"\n",
    "val = tracks[\"set\", \"split\"] == \"validation\"\n",
    "test = tracks[\"set\", \"split\"] == \"test\"\n",
    "\n",
    "y_train = tracks.loc[subset & train, (\"track\", \"genre_top\")]\n",
    "y_val = tracks.loc[subset & val, (\"track\", \"genre_top\")]\n",
    "y_test = tracks.loc[subset & test, (\"track\", \"genre_top\")]\n",
    "\n",
    "X_train = features.loc[subset & train]\n",
    "X_val = features.loc[subset & val]\n",
    "X_test = features.loc[subset & test]"
   ]
  },
  {
   "cell_type": "code",
   "execution_count": 5,
   "metadata": {},
   "outputs": [],
   "source": [
    "# redefine typer for genres column\n",
    "y_train = y_train.astype(\n",
    "    pd.CategoricalDtype(\n",
    "        categories=[\n",
    "            \"Electronic\",\n",
    "            \"Experimental\",\n",
    "            \"Folk\",\n",
    "            \"Hip-Hop\",\n",
    "            \"Instrumental\",\n",
    "            \"International\",\n",
    "            \"Pop\",\n",
    "            \"Rock\",\n",
    "        ]\n",
    "    )\n",
    ")"
   ]
  },
  {
   "cell_type": "code",
   "execution_count": 12,
   "metadata": {},
   "outputs": [
    {
     "data": {
      "text/plain": [
       "((6400, 518), (6400,), (800, 518), (800,), (800, 518), (800,))"
      ]
     },
     "execution_count": 12,
     "metadata": {},
     "output_type": "execute_result"
    }
   ],
   "source": [
    "X_train.shape, y_train.shape, X_val.shape, y_val.shape, X_test.shape, y_test.shape"
   ]
  },
  {
   "cell_type": "code",
   "execution_count": 6,
   "metadata": {},
   "outputs": [
    {
     "data": {
      "text/plain": [
       "Electronic       800\n",
       "Experimental     800\n",
       "Folk             800\n",
       "Hip-Hop          800\n",
       "Instrumental     800\n",
       "International    800\n",
       "Pop              800\n",
       "Rock             800\n",
       "Name: (track, genre_top), dtype: int64"
      ]
     },
     "execution_count": 6,
     "metadata": {},
     "output_type": "execute_result"
    }
   ],
   "source": [
    "counts = y_train.value_counts()\n",
    "classes = list(y_train.unique())\n",
    "n_classes = len(counts)\n",
    "counts"
   ]
  },
  {
   "cell_type": "code",
   "execution_count": 7,
   "metadata": {},
   "outputs": [],
   "source": [
    "scaler = StandardScaler()\n",
    "scaler.fit(X_train)\n",
    "\n",
    "X_train = scaler.transform(X_train)\n",
    "X_val = scaler.transform(X_val)\n",
    "X_test = scaler.transform(X_test)\n",
    "\n",
    "lab_encoder = LabelEncoder()\n",
    "lab_encoder.fit(y_train)\n",
    "\n",
    "y_train = lab_encoder.transform(y_train)\n",
    "y_val = lab_encoder.transform(y_val)\n",
    "y_test = lab_encoder.transform(y_test)\n",
    "\n",
    "y_train = tf.keras.utils.to_categorical(y_train, 8)\n",
    "y_val = tf.keras.utils.to_categorical(y_val, 8)\n",
    "y_test = tf.keras.utils.to_categorical(y_test, 8)"
   ]
  },
  {
   "cell_type": "code",
   "execution_count": 9,
   "metadata": {},
   "outputs": [
    {
     "name": "stdout",
     "output_type": "stream",
     "text": [
      "Model: \"sequential\"\n",
      "_________________________________________________________________\n",
      " Layer (type)                Output Shape              Param #   \n",
      "=================================================================\n",
      " dense (Dense)               (None, 512)               265728    \n",
      "                                                                 \n",
      " dense_1 (Dense)             (None, 256)               131328    \n",
      "                                                                 \n",
      " dense_2 (Dense)             (None, 8)                 2056      \n",
      "                                                                 \n",
      "=================================================================\n",
      "Total params: 399,112\n",
      "Trainable params: 399,112\n",
      "Non-trainable params: 0\n",
      "_________________________________________________________________\n"
     ]
    }
   ],
   "source": [
    "tf.keras.backend.clear_session()\n",
    "\n",
    "model = Sequential([\n",
    "    layers.Dense(512, input_shape=(518,), activation=\"relu\", kernel_regularizer=l2(0.02)),\n",
    "    layers.Dense(256, activation=\"relu\", kernel_regularizer=l2(0.02)),\n",
    "    layers.Dense(n_classes, activation=\"softmax\", kernel_regularizer=l2(0.02))\n",
    "])\n",
    "\n",
    "model.compile(\n",
    "    loss=\"categorical_crossentropy\",\n",
    "    optimizer=tf.keras.optimizers.Adam(1e-4),\n",
    "    metrics=[\"accuracy\"],\n",
    ")\n",
    "\n",
    "model.summary()"
   ]
  },
  {
   "cell_type": "code",
   "execution_count": null,
   "metadata": {},
   "outputs": [],
   "source": [
    "batch_size = 32\n",
    "\n",
    "early_stop = tf.keras.callbacks.EarlyStopping(\n",
    "    monitor=\"val_loss\", patience=5, restore_best_weights=True\n",
    ")\n",
    "history = model.fit(\n",
    "    X_train,\n",
    "    y_train,\n",
    "    batch_size=batch_size,\n",
    "    epochs=200,\n",
    "    validation_data=(X_val, y_val),\n",
    "    callbacks=[early_stop],\n",
    ")"
   ]
  },
  {
   "cell_type": "code",
   "execution_count": 10,
   "metadata": {},
   "outputs": [
    {
     "data": {
      "image/png": "[encoded data removed]",
      "text/plain": [
       "<Figure size 1080x360 with 2 Axes>"
      ]
     },
     "metadata": {
      "needs_background": "light"
     },
     "output_type": "display_data"
    }
   ],
   "source": [
    "plot_history(history.history, save=True, filepath=\"../out/nn_handcrafted.jpg\")"
   ]
  },
  {
   "cell_type": "code",
   "execution_count": 11,
   "metadata": {},
   "outputs": [
    {
     "name": "stdout",
     "output_type": "stream",
     "text": [
      "25/25 [==============================] - 0s 723us/step - loss: 1.9003 - accuracy: 0.4950\n"
     ]
    }
   ],
   "source": [
    "loss, acc = model.evaluate(X_test, y_test, batch_size=batch_size)"
   ]
  },
  {
   "cell_type": "code",
   "execution_count": 60,
   "metadata": {},
   "outputs": [
    {
     "name": "stdout",
     "output_type": "stream",
     "text": [
      "Train\t\t loss: 1.470, accuracy: 0.680\n",
      "Validation\t loss: 1.715, accuracy: 0.567\n",
      "Test\t\t loss: 1.900, accuracy: 0.495\n",
      "\n"
     ]
    }
   ],
   "source": [
    "train_loss = history.history[\"loss\"][early_stop.best_epoch]\n",
    "train_acc = history.history[\"accuracy\"][early_stop.best_epoch]\n",
    "val_loss = history.history[\"val_loss\"][early_stop.best_epoch]\n",
    "val_acc = history.history[\"val_accuracy\"][early_stop.best_epoch]\n",
    "\n",
    "print(f\"Train\\t\\t loss: {train_loss}, accuracy: {train_acc}\")\n",
    "print(f\"Validation\\t loss: {val_loss}, accuracy: {val_acc}\")\n",
    "print(f\"Test\\t\\t loss: {loss}, accuracy: {acc}\")"
   ]
  },
  {
   "cell_type": "code",
   "execution_count": 12,
   "metadata": {},
   "outputs": [],
   "source": [
    "y_pred = model.predict(X_test, batch_size=batch_size)"
   ]
  },
  {
   "cell_type": "code",
   "execution_count": 13,
   "metadata": {},
   "outputs": [
    {
     "data": {
      "text/plain": [
       "<sklearn.metrics._plot.confusion_matrix.ConfusionMatrixDisplay at 0x7fd4a52fbd00>"
      ]
     },
     "execution_count": 13,
     "metadata": {},
     "output_type": "execute_result"
    },
    {
     "data": {
      "image/png": "[encoded data removed]",
      "text/plain": [
       "<Figure size 576x576 with 2 Axes>"
      ]
     },
     "metadata": {
      "needs_background": "light"
     },
     "output_type": "display_data"
    }
   ],
   "source": [
    "from sklearn.metrics import (\n",
    "    ConfusionMatrixDisplay,\n",
    "    confusion_matrix,\n",
    "    classification_report,\n",
    ")\n",
    "\n",
    "cm = confusion_matrix(np.argmax(y_pred, 1), np.argmax(y_test, 1))\n",
    "\n",
    "fig, ax = plt.subplots(figsize=(8, 8))\n",
    "disp = ConfusionMatrixDisplay(cm, display_labels=classes)\n",
    "disp.plot(ax=ax, xticks_rotation=90)"
   ]
  },
  {
   "cell_type": "code",
   "execution_count": 14,
   "metadata": {},
   "outputs": [
    {
     "name": "stdout",
     "output_type": "stream",
     "text": [
      "20.702104799966037\n",
      "20.074568500058376\n"
     ]
    }
   ],
   "source": [
    "from project.utils.nn import prediction_time\n",
    "prediction_time(model, input_shape=(518, ), device_name=\"/cpu:0\")\n",
    "prediction_time(model, input_shape=(518, ), device_name=\"/gpu:0\")"
   ]
  },
  {
   "cell_type": "markdown",
   "metadata": {},
   "source": [
    "# Classical Classifiers"
   ]
  },
  {
   "cell_type": "code",
   "execution_count": 14,
   "metadata": {},
   "outputs": [
    {
     "name": "stdout",
     "output_type": "stream",
     "text": [
      "SVM\n",
      "3.753979835999999\n",
      "              precision    recall  f1-score   support\n",
      "\n",
      "           0       0.58      0.60      0.59       100\n",
      "           1       0.36      0.43      0.39       100\n",
      "           2       0.25      0.25      0.25       100\n",
      "           3       0.68      0.72      0.70       100\n",
      "           4       0.41      0.38      0.39       100\n",
      "           5       0.58      0.41      0.48       100\n",
      "           6       0.42      0.41      0.41       100\n",
      "           7       0.59      0.63      0.61       100\n",
      "\n",
      "    accuracy                           0.48       800\n",
      "   macro avg       0.48      0.48      0.48       800\n",
      "weighted avg       0.48      0.48      0.48       800\n",
      "\n",
      "KNN\n",
      "0.11580952500000308\n",
      "              precision    recall  f1-score   support\n",
      "\n",
      "           0       0.42      0.33      0.37       100\n",
      "           1       0.40      0.21      0.27       100\n",
      "           2       0.20      0.31      0.25       100\n",
      "           3       0.49      0.59      0.53       100\n",
      "           4       0.29      0.15      0.20       100\n",
      "           5       0.24      0.43      0.30       100\n",
      "           6       0.17      0.13      0.15       100\n",
      "           7       0.52      0.43      0.47       100\n",
      "\n",
      "    accuracy                           0.32       800\n",
      "   macro avg       0.34      0.32      0.32       800\n",
      "weighted avg       0.34      0.32      0.32       800\n",
      "\n",
      "RF\n",
      "6.430903891\n",
      "              precision    recall  f1-score   support\n",
      "\n",
      "           0       0.53      0.61      0.56       100\n",
      "           1       0.23      0.26      0.24       100\n",
      "           2       0.26      0.27      0.27       100\n",
      "           3       0.60      0.67      0.63       100\n",
      "           4       0.46      0.42      0.44       100\n",
      "           5       0.57      0.49      0.53       100\n",
      "           6       0.39      0.34      0.36       100\n",
      "           7       0.66      0.59      0.62       100\n",
      "\n",
      "    accuracy                           0.46       800\n",
      "   macro avg       0.46      0.46      0.46       800\n",
      "weighted avg       0.46      0.46      0.46       800\n",
      "\n",
      "GNB\n",
      "0.0219110610000115\n",
      "              precision    recall  f1-score   support\n",
      "\n",
      "           0       0.38      0.06      0.10       100\n",
      "           1       0.40      0.10      0.16       100\n",
      "           2       0.20      0.20      0.20       100\n",
      "           3       0.29      0.02      0.04       100\n",
      "           4       0.54      0.07      0.12       100\n",
      "           5       0.20      0.78      0.32       100\n",
      "           6       0.24      0.28      0.26       100\n",
      "           7       0.50      0.64      0.56       100\n",
      "\n",
      "    accuracy                           0.27       800\n",
      "   macro avg       0.34      0.27      0.22       800\n",
      "weighted avg       0.34      0.27      0.22       800\n",
      "\n"
     ]
    }
   ],
   "source": [
    "import time\n",
    "\n",
    "from sklearn.neighbors import KNeighborsClassifier\n",
    "from sklearn.naive_bayes import GaussianNB\n",
    "from sklearn.svm import SVC\n",
    "from sklearn.ensemble import RandomForestClassifier\n",
    "\n",
    "models = [\n",
    "    (\"SVM\", SVC()),\n",
    "    (\"KNN\", KNeighborsClassifier()),\n",
    "    (\"RF\", RandomForestClassifier()),\n",
    "    (\"GNB\", GaussianNB()),\n",
    "]\n",
    "\n",
    "yy_train = np.argmax(y_train, 1)\n",
    "yy_test = np.argmax(y_test, 1)\n",
    "\n",
    "for name, model in models:\n",
    "    print(name)\n",
    "    start_time = time.perf_counter()\n",
    "    model.fit(X_train, yy_train)\n",
    "    y_pred = model.predict(X_test)\n",
    "    elapsed = time.perf_counter() - start_time\n",
    "    report = classification_report(y_pred=y_pred, y_true=yy_test)\n",
    "    print(elapsed)\n",
    "    print(report)"
   ]
  }
 ],
 "metadata": {
  "interpreter": {
   "hash": "835112d58a1bf2133fad07c979c1ea2ff5d7984c6c4b88a06c5201d94b9798f5"
  },
  "kernelspec": {
   "display_name": "Python 3.8.10 64-bit ('venv': venv)",
   "language": "python",
   "name": "python3"
  },
  "language_info": {
   "codemirror_mode": {
    "name": "ipython",
    "version": 3
   },
   "file_extension": ".py",
   "mimetype": "text/x-python",
   "name": "python",
   "nbconvert_exporter": "python",
   "pygments_lexer": "ipython3",
   "version": "3.8.10"
  },
  "orig_nbformat": 4
 },
 "nbformat": 4,
 "nbformat_minor": 2
}
