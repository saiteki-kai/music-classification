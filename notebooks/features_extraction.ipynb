{
 "cells": [
  {
   "cell_type": "code",
   "execution_count": 1,
   "metadata": {},
   "outputs": [],
   "source": [
    "import sys\n",
    "sys.path.append('..')\n",
    "\n",
    "import os\n",
    "import numpy as np\n",
    "import time\n",
    "import joblib\n",
    "from matplotlib import pyplot as plt\n",
    "from sklearn import metrics\n",
    "\n",
    "from sklearn.preprocessing import StandardScaler\n",
    "from sklearn.decomposition import PCA\n",
    "from sklearn.model_selection import GridSearchCV\n",
    "from sklearn.svm import LinearSVC, SVC\n",
    "from sklearn.neural_network import MLPClassifier\n",
    "\n",
    "from tensorflow import keras\n",
    "from tensorflow.keras.preprocessing.image import ImageDataGenerator\n",
    "from tensorflow.keras.applications.vgg16 import VGG16, preprocess_input as vgg16_preprocess\n",
    "from tensorflow.keras.applications.resnet50 import ResNet50, preprocess_input as resnet50_preprocess\n",
    "from tensorflow.keras.preprocessing import image\n",
    "\n",
    "from project.config import FEATURES_FOLDER, MODELS_FOLDER"
   ]
  },
  {
   "cell_type": "code",
   "execution_count": 2,
   "metadata": {},
   "outputs": [],
   "source": [
    "root_dir = FEATURES_FOLDER + \"/\"\n",
    "base_dir = root_dir + \"mel_fe/\"\n",
    "train_dir = base_dir + \"training/\"\n",
    "val_dir = base_dir + \"validation/\"\n",
    "test_dir = base_dir + \"test/\"\n",
    "\n",
    "input_shape = (224, 224)\n",
    "batch_size = 32\n",
    "\n",
    "cut_level = \"block5_pool\" #\"conv5_block1_2_relu\"\n",
    "net = 'vgg16' #\"resnet50\"\n",
    "preprocess_input = vgg16_preprocess if net == \"vgg16\" else resnet50_preprocess\n",
    "features_filename = 'features_vgg16_block5_pool.npy' #\"features_resnet50_conv5_block1_2_relu.npy\"\n"
   ]
  },
  {
   "cell_type": "code",
   "execution_count": 3,
   "metadata": {},
   "outputs": [
    {
     "name": "stdout",
     "output_type": "stream",
     "text": [
      "Found 6398 images belonging to 8 classes.\n",
      "Found 1596 images belonging to 8 classes.\n"
     ]
    }
   ],
   "source": [
    "datagen = ImageDataGenerator(\n",
    "    preprocessing_function=preprocess_input, validation_split=0.2\n",
    ")\n",
    "\n",
    "train_generator = datagen.flow_from_directory(\n",
    "    base_dir,\n",
    "    target_size=(input_shape[0], input_shape[1]),\n",
    "    color_mode=\"rgb\",\n",
    "    shuffle=False,\n",
    "    batch_size=batch_size,\n",
    "    class_mode=\"sparse\",\n",
    "    subset=\"training\",\n",
    ")\n",
    "\n",
    "test_generator = datagen.flow_from_directory(\n",
    "    base_dir,\n",
    "    target_size=(input_shape[0], input_shape[1]),\n",
    "    color_mode=\"rgb\",\n",
    "    shuffle=False,\n",
    "    batch_size=batch_size,\n",
    "    class_mode=\"sparse\",\n",
    "    subset=\"validation\",\n",
    ")\n",
    "\n",
    "y_train = train_generator.classes\n",
    "y_test = test_generator.classes\n"
   ]
  },
  {
   "cell_type": "code",
   "execution_count": 4,
   "metadata": {},
   "outputs": [
    {
     "name": "stderr",
     "output_type": "stream",
     "text": [
      "2022-01-24 21:40:25.119451: I tensorflow/stream_executor/cuda/cuda_gpu_executor.cc:939] successful NUMA node read from SysFS had negative value (-1), but there must be at least one NUMA node, so returning NUMA node zero\n",
      "2022-01-24 21:40:25.143737: I tensorflow/stream_executor/cuda/cuda_gpu_executor.cc:939] successful NUMA node read from SysFS had negative value (-1), but there must be at least one NUMA node, so returning NUMA node zero\n",
      "2022-01-24 21:40:25.143921: I tensorflow/stream_executor/cuda/cuda_gpu_executor.cc:939] successful NUMA node read from SysFS had negative value (-1), but there must be at least one NUMA node, so returning NUMA node zero\n",
      "2022-01-24 21:40:25.144360: I tensorflow/core/platform/cpu_feature_guard.cc:151] This TensorFlow binary is optimized with oneAPI Deep Neural Network Library (oneDNN) to use the following CPU instructions in performance-critical operations:  AVX2 FMA\n",
      "To enable them in other operations, rebuild TensorFlow with the appropriate compiler flags.\n",
      "2022-01-24 21:40:25.144673: I tensorflow/stream_executor/cuda/cuda_gpu_executor.cc:939] successful NUMA node read from SysFS had negative value (-1), but there must be at least one NUMA node, so returning NUMA node zero\n",
      "2022-01-24 21:40:25.144833: I tensorflow/stream_executor/cuda/cuda_gpu_executor.cc:939] successful NUMA node read from SysFS had negative value (-1), but there must be at least one NUMA node, so returning NUMA node zero\n",
      "2022-01-24 21:40:25.144974: I tensorflow/stream_executor/cuda/cuda_gpu_executor.cc:939] successful NUMA node read from SysFS had negative value (-1), but there must be at least one NUMA node, so returning NUMA node zero\n",
      "2022-01-24 21:40:25.433774: I tensorflow/stream_executor/cuda/cuda_gpu_executor.cc:939] successful NUMA node read from SysFS had negative value (-1), but there must be at least one NUMA node, so returning NUMA node zero\n",
      "2022-01-24 21:40:25.433939: I tensorflow/stream_executor/cuda/cuda_gpu_executor.cc:939] successful NUMA node read from SysFS had negative value (-1), but there must be at least one NUMA node, so returning NUMA node zero\n",
      "2022-01-24 21:40:25.434060: I tensorflow/stream_executor/cuda/cuda_gpu_executor.cc:939] successful NUMA node read from SysFS had negative value (-1), but there must be at least one NUMA node, so returning NUMA node zero\n",
      "2022-01-24 21:40:25.434176: I tensorflow/core/common_runtime/gpu/gpu_device.cc:1525] Created device /job:localhost/replica:0/task:0/device:GPU:0 with 5650 MB memory:  -> device: 0, name: NVIDIA GeForce RTX 3060 Ti, pci bus id: 0000:09:00.0, compute capability: 8.6\n"
     ]
    },
    {
     "name": "stdout",
     "output_type": "stream",
     "text": [
      "Model: \"vgg16\"\n",
      "_________________________________________________________________\n",
      " Layer (type)                Output Shape              Param #   \n",
      "=================================================================\n",
      " input_1 (InputLayer)        [(None, 224, 224, 3)]     0         \n",
      "                                                                 \n",
      " block1_conv1 (Conv2D)       (None, 224, 224, 64)      1792      \n",
      "                                                                 \n",
      " block1_conv2 (Conv2D)       (None, 224, 224, 64)      36928     \n",
      "                                                                 \n",
      " block1_pool (MaxPooling2D)  (None, 112, 112, 64)      0         \n",
      "                                                                 \n",
      " block2_conv1 (Conv2D)       (None, 112, 112, 128)     73856     \n",
      "                                                                 \n",
      " block2_conv2 (Conv2D)       (None, 112, 112, 128)     147584    \n",
      "                                                                 \n",
      " block2_pool (MaxPooling2D)  (None, 56, 56, 128)       0         \n",
      "                                                                 \n",
      " block3_conv1 (Conv2D)       (None, 56, 56, 256)       295168    \n",
      "                                                                 \n",
      " block3_conv2 (Conv2D)       (None, 56, 56, 256)       590080    \n",
      "                                                                 \n",
      " block3_conv3 (Conv2D)       (None, 56, 56, 256)       590080    \n",
      "                                                                 \n",
      " block3_pool (MaxPooling2D)  (None, 28, 28, 256)       0         \n",
      "                                                                 \n",
      " block4_conv1 (Conv2D)       (None, 28, 28, 512)       1180160   \n",
      "                                                                 \n",
      " block4_conv2 (Conv2D)       (None, 28, 28, 512)       2359808   \n",
      "                                                                 \n",
      " block4_conv3 (Conv2D)       (None, 28, 28, 512)       2359808   \n",
      "                                                                 \n",
      " block4_pool (MaxPooling2D)  (None, 14, 14, 512)       0         \n",
      "                                                                 \n",
      " block5_conv1 (Conv2D)       (None, 14, 14, 512)       2359808   \n",
      "                                                                 \n",
      " block5_conv2 (Conv2D)       (None, 14, 14, 512)       2359808   \n",
      "                                                                 \n",
      " block5_conv3 (Conv2D)       (None, 14, 14, 512)       2359808   \n",
      "                                                                 \n",
      " block5_pool (MaxPooling2D)  (None, 7, 7, 512)         0         \n",
      "                                                                 \n",
      " flatten (Flatten)           (None, 25088)             0         \n",
      "                                                                 \n",
      " fc1 (Dense)                 (None, 4096)              102764544 \n",
      "                                                                 \n",
      " fc2 (Dense)                 (None, 4096)              16781312  \n",
      "                                                                 \n",
      " predictions (Dense)         (None, 1000)              4097000   \n",
      "                                                                 \n",
      "=================================================================\n",
      "Total params: 138,357,544\n",
      "Trainable params: 138,357,544\n",
      "Non-trainable params: 0\n",
      "_________________________________________________________________\n"
     ]
    }
   ],
   "source": [
    "if net == \"vgg16\":\n",
    "    base_model = VGG16(weights=\"imagenet\")\n",
    "elif net == \"resnet50\":\n",
    "    base_model = ResNet50(weights=\"imagenet\")\n",
    "base_model.summary()"
   ]
  },
  {
   "cell_type": "code",
   "execution_count": 5,
   "metadata": {},
   "outputs": [
    {
     "name": "stdout",
     "output_type": "stream",
     "text": [
      "Model: \"model\"\n",
      "_________________________________________________________________\n",
      " Layer (type)                Output Shape              Param #   \n",
      "=================================================================\n",
      " input_1 (InputLayer)        [(None, 224, 224, 3)]     0         \n",
      "                                                                 \n",
      " block1_conv1 (Conv2D)       (None, 224, 224, 64)      1792      \n",
      "                                                                 \n",
      " block1_conv2 (Conv2D)       (None, 224, 224, 64)      36928     \n",
      "                                                                 \n",
      " block1_pool (MaxPooling2D)  (None, 112, 112, 64)      0         \n",
      "                                                                 \n",
      " block2_conv1 (Conv2D)       (None, 112, 112, 128)     73856     \n",
      "                                                                 \n",
      " block2_conv2 (Conv2D)       (None, 112, 112, 128)     147584    \n",
      "                                                                 \n",
      " block2_pool (MaxPooling2D)  (None, 56, 56, 128)       0         \n",
      "                                                                 \n",
      " block3_conv1 (Conv2D)       (None, 56, 56, 256)       295168    \n",
      "                                                                 \n",
      " block3_conv2 (Conv2D)       (None, 56, 56, 256)       590080    \n",
      "                                                                 \n",
      " block3_conv3 (Conv2D)       (None, 56, 56, 256)       590080    \n",
      "                                                                 \n",
      " block3_pool (MaxPooling2D)  (None, 28, 28, 256)       0         \n",
      "                                                                 \n",
      " block4_conv1 (Conv2D)       (None, 28, 28, 512)       1180160   \n",
      "                                                                 \n",
      " block4_conv2 (Conv2D)       (None, 28, 28, 512)       2359808   \n",
      "                                                                 \n",
      " block4_conv3 (Conv2D)       (None, 28, 28, 512)       2359808   \n",
      "                                                                 \n",
      " block4_pool (MaxPooling2D)  (None, 14, 14, 512)       0         \n",
      "                                                                 \n",
      " block5_conv1 (Conv2D)       (None, 14, 14, 512)       2359808   \n",
      "                                                                 \n",
      " block5_conv2 (Conv2D)       (None, 14, 14, 512)       2359808   \n",
      "                                                                 \n",
      " block5_conv3 (Conv2D)       (None, 14, 14, 512)       2359808   \n",
      "                                                                 \n",
      " block5_pool (MaxPooling2D)  (None, 7, 7, 512)         0         \n",
      "                                                                 \n",
      "=================================================================\n",
      "Total params: 14,714,688\n",
      "Trainable params: 14,714,688\n",
      "Non-trainable params: 0\n",
      "_________________________________________________________________\n"
     ]
    }
   ],
   "source": [
    "base_model = keras.Model(base_model.input, base_model.get_layer(cut_level).output)\n",
    "base_model.summary()"
   ]
  },
  {
   "cell_type": "code",
   "execution_count": 6,
   "metadata": {},
   "outputs": [],
   "source": [
    "def extract_features(model, datagen):\n",
    "    features = model.predict_generator(datagen)\n",
    "    features = features.reshape((features.shape[0], -1))\n",
    "    return features\n",
    "\n",
    "def pre_process(features, std_scaler, pca_scaler):\n",
    "    if std_scaler == None:\n",
    "        std_scaler = StandardScaler()\n",
    "        std_scaler.fit(features)\n",
    "\n",
    "    if pca_scaler == None:\n",
    "        pca_scaler = PCA(0.90)\n",
    "        pca_scaler.fit(features)\n",
    "\n",
    "    features = std_scaler.transform(features)\n",
    "    features = pca_scaler.transform(features)\n",
    "    return features, std_scaler, pca_scaler\n",
    "\n",
    "\n",
    "def train(features, labels, model, grid_params):\n",
    "    t_start = time.time()\n",
    "\n",
    "    clf = GridSearchCV(model, grid_params, scoring=\"accuracy\", n_jobs=-1, cv=10)\n",
    "    clf.fit(features, labels)\n",
    "\n",
    "    time_train = time.time() - t_start\n",
    "    print(\"time_{}_train: --- {} seconds ---\".format(\"model\", time_train))\n",
    "    print(\"best_params: {}\".format(clf.best_params_))\n",
    "    print(\"Accuracy: {}\".format(clf.best_score_))\n",
    "    return clf\n",
    "\n",
    "\n",
    "def test(clf, features, labels):\n",
    "    start = time.perf_counter()\n",
    "    pred = clf.predict(features)\n",
    "    print(\"time_{}test: --- {} seconds ---\".format(\"model\", time.perf_counter() - start))\n",
    "\n",
    "    fig, ax = plt.subplots(figsize=(6, 6))\n",
    "    disp = metrics.ConfusionMatrixDisplay(\n",
    "        metrics.confusion_matrix(labels, pred), display_labels=range(8)\n",
    "    )\n",
    "    disp.plot(ax=ax, colorbar=False, cmap=\"Blues\")\n",
    "\n",
    "    print(\"{}\".format(metrics.classification_report(labels, pred)))\n",
    "    print(\"Accuracy: {}\".format(metrics.accuracy_score(labels, pred)))\n"
   ]
  },
  {
   "cell_type": "code",
   "execution_count": null,
   "metadata": {},
   "outputs": [],
   "source": [
    "features_path = os.path.join(FEATURES_FOLDER, \"deep_features\", features_filename)\n",
    "if os.path.isfile(features_path):\n",
    "    features = np.load(features_path)\n",
    "else:\n",
    "    features = extract_features(base_model, train_generator)\n",
    "    np.save(features_path, features)\n",
    "\n",
    "X_train, std_scaler, pca_scaler = pre_process(features, None, None)\n",
    "X_train.shape\n"
   ]
  },
  {
   "cell_type": "markdown",
   "metadata": {},
   "source": [
    "# Linear SVM"
   ]
  },
  {
   "cell_type": "code",
   "execution_count": null,
   "metadata": {},
   "outputs": [],
   "source": [
    "svm_params = {\"C\": [0.01, 0.1, 1, 10]}\n",
    "clf = train(X_train, y_train, LinearSVC(), svm_params)\n"
   ]
  },
  {
   "cell_type": "code",
   "execution_count": null,
   "metadata": {},
   "outputs": [],
   "source": [
    "X_test, _, _ = pre_process(\n",
    "    extract_features(base_model, test_generator), std_scaler, pca_scaler\n",
    ")\n",
    "print(X_test.shape)\n",
    "test(clf, X_test, y_test)\n"
   ]
  },
  {
   "cell_type": "markdown",
   "metadata": {},
   "source": [
    "# RBF SVM"
   ]
  },
  {
   "cell_type": "code",
   "execution_count": null,
   "metadata": {},
   "outputs": [],
   "source": [
    "svm_params = {\"C\": [0.01, 0.1, 1, 10], \"gamma\": [0.01, 0.001, 0.0001]}\n",
    "clf = train(X_train, y_train, SVC(kernel=\"rbf\"), svm_params)\n"
   ]
  },
  {
   "cell_type": "code",
   "execution_count": null,
   "metadata": {},
   "outputs": [],
   "source": [
    "X_test, _, _ = pre_process(\n",
    "    extract_features(base_model, test_generator), std_scaler, pca_scaler\n",
    ")\n",
    "print(X_test.shape)\n",
    "test(clf, X_test, y_test)\n",
    "\n",
    "# joblib.dump([std_scaler, pca_scaler, clf], 'best_resnet50.sav', compress=1)\n",
    "# joblib.dump([std_scaler, pca_scaler, clf], 'best_vgg16.sav', compress=1)\n"
   ]
  },
  {
   "cell_type": "markdown",
   "metadata": {},
   "source": [
    "# NN"
   ]
  },
  {
   "cell_type": "code",
   "execution_count": null,
   "metadata": {},
   "outputs": [],
   "source": [
    "nn_params = {\n",
    "    \"hidden_layer_sizes\": [(512, 256), (512, 32), (512,)],\n",
    "    \"alpha\": [0.01, 0.03, 0.05],\n",
    "}\n",
    "clf = train(\n",
    "    X_train,\n",
    "    y_train,\n",
    "    MLPClassifier(activation=\"relu\", solver=\"adam\", batch_size=32, early_stopping=True),\n",
    "    nn_params,\n",
    ")\n"
   ]
  },
  {
   "cell_type": "code",
   "execution_count": null,
   "metadata": {},
   "outputs": [],
   "source": [
    "X_test, _, _ = pre_process(\n",
    "    extract_features(base_model, test_generator), std_scaler, pca_scaler\n",
    ")\n",
    "print(X_test.shape)\n",
    "test(clf, X_test, y_test)\n"
   ]
  },
  {
   "cell_type": "markdown",
   "metadata": {},
   "source": [
    "# Validation"
   ]
  },
  {
   "cell_type": "code",
   "execution_count": 7,
   "metadata": {},
   "outputs": [
    {
     "name": "stderr",
     "output_type": "stream",
     "text": [
      "2022-01-24 21:40:37.520343: I tensorflow/stream_executor/cuda/cuda_dnn.cc:366] Loaded cuDNN version 8301\n"
     ]
    },
    {
     "name": "stdout",
     "output_type": "stream",
     "text": [
      "(1596, 1174)\n",
      "time_modeltest: --- 4.517808397999943 seconds ---\n",
      "              precision    recall  f1-score   support\n",
      "\n",
      "           0       0.46      0.56      0.51       199\n",
      "           1       0.47      0.40      0.43       199\n",
      "           2       0.51      0.63      0.56       200\n",
      "           3       0.60      0.60      0.60       199\n",
      "           4       0.41      0.31      0.35       200\n",
      "           5       0.58      0.73      0.65       200\n",
      "           6       0.33      0.24      0.28       200\n",
      "           7       0.52      0.51      0.51       199\n",
      "\n",
      "    accuracy                           0.50      1596\n",
      "   macro avg       0.49      0.50      0.49      1596\n",
      "weighted avg       0.49      0.50      0.49      1596\n",
      "\n",
      "Accuracy: 0.4968671679197995\n"
     ]
    },
    {
     "data": {
      "image/png": "[encoded data removed]",
      "text/plain": [
       "<Figure size 432x432 with 1 Axes>"
      ]
     },
     "metadata": {
      "needs_background": "light"
     },
     "output_type": "display_data"
    }
   ],
   "source": [
    "#load model\n",
    "[std_scaler, pca_scaler, best_model] = joblib.load(os.path.join(MODELS_FOLDER, 'best_vgg16.sav'))\n",
    "\n",
    "X_test, _, _ = pre_process(extract_features(base_model, test_generator), std_scaler, pca_scaler)\n",
    "print(X_test.shape)\n",
    "test(best_model, X_test, y_test)\n"
   ]
  },
  {
   "cell_type": "code",
   "execution_count": 22,
   "metadata": {},
   "outputs": [
    {
     "name": "stdout",
     "output_type": "stream",
     "text": [
      "71.82624289998785\n",
      "21.837126199898194\n"
     ]
    }
   ],
   "source": [
    "from project.utils.nn import prediction_time\n",
    "t1 = prediction_time(base_model, input_shape=(224, 224, 3), device_name=\"/cpu:0\")\n",
    "t2 = prediction_time(base_model, input_shape=(224, 224, 3), device_name=\"/gpu:0\")\n",
    "print(t1)\n",
    "print(t2)"
   ]
  },
  {
   "cell_type": "code",
   "execution_count": 29,
   "metadata": {},
   "outputs": [
    {
     "name": "stdout",
     "output_type": "stream",
     "text": [
      "3.187206500024331\n"
     ]
    }
   ],
   "source": [
    "def prediction_time_ml(model, input_shape):\n",
    "    dummy_example = np.random.randn(*input_shape)\n",
    "    times = []\n",
    "    for i in range(10):\n",
    "        start = time.perf_counter()\n",
    "        model.predict(dummy_example)\n",
    "        end = time.perf_counter() - start\n",
    "        times.append(end)\n",
    "    times = np.asarray(times)\n",
    "    return np.mean(times) * 1000\n",
    "\n",
    "t3 = prediction_time_ml(best_model, input_shape=(1, 1321))\n",
    "print(t3)"
   ]
  }
 ],
 "metadata": {
  "interpreter": {
   "hash": "ff79a7472470597a5bb7505f8b87a34af1662b668947baefed49369203f4ac39"
  },
  "kernelspec": {
   "display_name": "Python 3.8.10 64-bit ('venv': venv)",
   "language": "python",
   "name": "python3"
  },
  "language_info": {
   "codemirror_mode": {
    "name": "ipython",
    "version": 3
   },
   "file_extension": ".py",
   "mimetype": "text/x-python",
   "name": "python",
   "nbconvert_exporter": "python",
   "pygments_lexer": "ipython3",
   "version": "3.8.10"
  },
  "orig_nbformat": 4
 },
 "nbformat": 4,
 "nbformat_minor": 2
}
