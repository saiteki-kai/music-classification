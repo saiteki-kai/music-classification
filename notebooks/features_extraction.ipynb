{
 "cells": [
  {
   "cell_type": "code",
   "execution_count": null,
   "metadata": {},
   "outputs": [],
   "source": [
    "\n",
    "import os\n",
    "import numpy as np\n",
    "import time\n",
    "import joblib\n",
    "from matplotlib import pyplot as plt\n",
    "from sklearn import metrics\n",
    "\n",
    "from sklearn.preprocessing import StandardScaler\n",
    "from sklearn.decomposition import PCA\n",
    "from sklearn.model_selection import GridSearchCV\n",
    "from sklearn.svm import LinearSVC, SVC\n",
    "from sklearn.neural_network import MLPClassifier\n",
    "\n",
    "import tensorflow as tf\n",
    "from tensorflow import keras\n",
    "from tensorflow.keras import layers\n",
    "from tensorflow.keras.optimizers import Adam\n",
    "from tensorflow.keras.preprocessing.image import ImageDataGenerator\n",
    "from tensorflow.keras.applications.vgg16 import VGG16, preprocess_input as vgg16_preprocess\n",
    "from tensorflow.keras.applications.resnet50 import ResNet50, preprocess_input as resnet50_preprocess\n",
    "from tensorflow.keras.preprocessing import image\n",
    "\n",
    "from utils import FEATURES_FOLDER"
   ]
  },
  {
   "cell_type": "code",
   "execution_count": null,
   "metadata": {},
   "outputs": [],
   "source": [
    "root_dir = FEATURES_FOLDER + '/'\n",
    "base_dir = root_dir + 'mel_fe/'\n",
    "train_dir = base_dir + 'training/'\n",
    "val_dir = base_dir + 'validation/'\n",
    "test_dir = base_dir + 'test/'\n",
    "\n",
    "input_shape = (224, 224)\n",
    "batch_size=32\n",
    "\n",
    "cut_level = 'fc2'\n",
    "net = 'vgg16'\n",
    "preprocess_input = vgg16_preprocess if net == 'vgg16' else resnet50_preprocess\n",
    "features_filename = 'features_vgg16_block5_pool.npy'"
   ]
  },
  {
   "cell_type": "code",
   "execution_count": null,
   "metadata": {},
   "outputs": [],
   "source": [
    "datagen = ImageDataGenerator(preprocessing_function=preprocess_input, validation_split=0.2)\n",
    "\n",
    "train_generator = datagen.flow_from_directory(\n",
    "        base_dir,\n",
    "        target_size=(input_shape[0], input_shape[1]),\n",
    "        color_mode= \"rgb\",\n",
    "        shuffle=False,\n",
    "        batch_size=batch_size,\n",
    "        class_mode='sparse', \n",
    "        subset='training')\n",
    "\n",
    "test_generator = datagen.flow_from_directory(\n",
    "        base_dir,\n",
    "        target_size=(input_shape[0], input_shape[1]),\n",
    "        color_mode= \"rgb\",\n",
    "        shuffle=False,\n",
    "        batch_size=batch_size,\n",
    "        class_mode='sparse',\n",
    "        subset='validation')\n",
    "\n",
    "y_train = train_generator.classes\n",
    "y_test = test_generator.classes"
   ]
  },
  {
   "cell_type": "code",
   "execution_count": null,
   "metadata": {},
   "outputs": [],
   "source": [
    "if net == 'vgg16':\n",
    "    base_model = VGG16(weights='imagenet')\n",
    "elif net == 'resnet50':\n",
    "    base_model = ResNet50(weights='imagenet')\n",
    "\n",
    "base_model.summary()"
   ]
  },
  {
   "cell_type": "code",
   "execution_count": null,
   "metadata": {},
   "outputs": [],
   "source": [
    "base_model = keras.Model(base_model.input, base_model.get_layer(cut_level).output)\n",
    "base_model.trainable = False\n",
    "base_model.summary()"
   ]
  },
  {
   "cell_type": "code",
   "execution_count": null,
   "metadata": {},
   "outputs": [],
   "source": [
    "def extract_features(model, datagen):\n",
    "  features = model.predict_generator(datagen)\n",
    "  features = features.reshape((features.shape[0], -1))\n",
    "  return features\n",
    "\n",
    "def pre_process(features, std_scaler, pca_scaler):\n",
    "  if std_scaler == None:\n",
    "    std_scaler = StandardScaler()\n",
    "    std_scaler.fit(features)\n",
    "\n",
    "  if pca_scaler == None:\n",
    "    pca_scaler = PCA(0.90)\n",
    "    pca_scaler.fit(features)\n",
    "\n",
    "  features = std_scaler.transform(features)\n",
    "  features = pca_scaler.transform(features)\n",
    "  return features, std_scaler, pca_scaler\n",
    "\n",
    "def train(features, labels, model, grid_params):\n",
    "  t_start = time.time()\n",
    "\n",
    "  clf = GridSearchCV(model, grid_params, scoring='accuracy', n_jobs=-1, cv=10)\n",
    "  clf.fit(features, labels)\n",
    "\n",
    "  time_train = time.time() - t_start\n",
    "  print(\"time_{}_train: --- {} seconds ---\".format(\"model\", time_train))\n",
    "  print('best_params: {}'.format(clf.best_params_))\n",
    "  print('Accuracy: {}'.format(clf.best_score_))\n",
    "  return clf\n",
    "\n",
    "\n",
    "def test(clf, features, labels):\n",
    "  pred = clf.predict(features)\n",
    "\n",
    "  fig, ax = plt.subplots(figsize=(6, 6))\n",
    "  disp = metrics.ConfusionMatrixDisplay(metrics.confusion_matrix(labels, pred), display_labels=range(8))\n",
    "  disp.plot(ax=ax, colorbar=False,cmap='Blues')\n",
    "\n",
    "  print('{}'.format(metrics.classification_report(labels, pred)))\n",
    "  print('Accuracy: {}'.format(metrics.accuracy_score(labels, pred)))\n"
   ]
  },
  {
   "cell_type": "code",
   "execution_count": null,
   "metadata": {},
   "outputs": [],
   "source": [
    "features_path = os.path.join(FEATURES_FOLDER, 'deep_features', features_filename)\n",
    "if os.path.isfile(features_path):\n",
    "    features = np.load(features_path)\n",
    "else:\n",
    "    features = extract_features(base_model, train_generator)\n",
    "    np.save(features_path, features)\n",
    "\n",
    "X_train, std_scaler, pca_scaler = pre_process(features, None, None)\n",
    "X_train.shape"
   ]
  },
  {
   "cell_type": "markdown",
   "metadata": {},
   "source": [
    "# Linear SVM"
   ]
  },
  {
   "cell_type": "code",
   "execution_count": null,
   "metadata": {},
   "outputs": [],
   "source": [
    "svm_params = {'C': [0.01, 0.1, 1, 10]}\n",
    "clf = train(X_train, y_train, LinearSVC(), svm_params)"
   ]
  },
  {
   "cell_type": "code",
   "execution_count": null,
   "metadata": {},
   "outputs": [],
   "source": [
    "X_test, _, _ = pre_process(extract_features(base_model, test_generator), std_scaler, pca_scaler)\n",
    "print(X_test.shape)\n",
    "test(clf, X_test, y_test)"
   ]
  },
  {
   "cell_type": "markdown",
   "metadata": {},
   "source": [
    "# RBF SVM"
   ]
  },
  {
   "cell_type": "code",
   "execution_count": null,
   "metadata": {},
   "outputs": [],
   "source": [
    "svm_params = {'C': [0.01, 0.1, 1, 10], 'gamma': [0.01, 0.001, 0.0001]}\n",
    "clf = train(X_train, y_train, SVC(kernel='rbf'), svm_params)"
   ]
  },
  {
   "cell_type": "code",
   "execution_count": null,
   "metadata": {},
   "outputs": [],
   "source": [
    "X_test, _, _ = pre_process(extract_features(base_model, test_generator), std_scaler, pca_scaler)\n",
    "print(X_test.shape)\n",
    "test(clf, X_test, y_test)\n",
    "\n",
    "#joblib.dump([std_scaler, pca_scaler, clf], 'best_resnet50.sav', compress=1)\n",
    "#joblib.dump([std_scaler, pca_scaler, clf], 'best_vgg16.sav', compress=1)"
   ]
  },
  {
   "cell_type": "markdown",
   "metadata": {},
   "source": [
    "# NN"
   ]
  },
  {
   "cell_type": "code",
   "execution_count": null,
   "metadata": {},
   "outputs": [],
   "source": [
    "nn_params = {\n",
    "    'hidden_layer_sizes': [(512, 256), (512, 32), (512, )],\n",
    "    'alpha' : [0.01, 0.03, 0.05],\n",
    "}\n",
    "clf = train(X_train, y_train, MLPClassifier(activation='relu', solver='adam', batch_size=32, early_stopping=True), nn_params)"
   ]
  },
  {
   "cell_type": "code",
   "execution_count": null,
   "metadata": {},
   "outputs": [],
   "source": [
    "X_test, _, _ = pre_process(extract_features(base_model, test_generator), std_scaler, pca_scaler)\n",
    "print(X_test.shape)\n",
    "test(clf, X_test, y_test)"
   ]
  }
 ],
 "metadata": {
  "interpreter": {
   "hash": "ff79a7472470597a5bb7505f8b87a34af1662b668947baefed49369203f4ac39"
  },
  "kernelspec": {
   "display_name": "Python 3.8.10 64-bit ('venv': venv)",
   "language": "python",
   "name": "python3"
  },
  "language_info": {
   "codemirror_mode": {
    "name": "ipython",
    "version": 3
   },
   "file_extension": ".py",
   "mimetype": "text/x-python",
   "name": "python",
   "nbconvert_exporter": "python",
   "pygments_lexer": "ipython3",
   "version": "3.8.10"
  },
  "orig_nbformat": 4
 },
 "nbformat": 4,
 "nbformat_minor": 2
}
